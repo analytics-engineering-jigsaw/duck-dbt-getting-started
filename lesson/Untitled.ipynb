{
 "cells": [
  {
   "cell_type": "code",
   "execution_count": null,
   "id": "b924520a-3531-4c25-a034-4915e92b4bd5",
   "metadata": {},
   "outputs": [],
   "source": []
  },
  {
   "cell_type": "markdown",
   "id": "3429f298-8c19-4482-8f29-927cf1075a31",
   "metadata": {},
   "source": [
    "### Resources"
   ]
  },
  {
   "cell_type": "markdown",
   "id": "34f0dc5d-3e93-4fbf-ac1f-c49d7f9c8a2c",
   "metadata": {},
   "source": [
    "[Duckdb Parquet Loading](https://duckdb.org/docs/data/parquet/overview.html)"
   ]
  },
  {
   "cell_type": "markdown",
   "id": "dd9839b0-c156-40c8-be15-b4fca6a6fb07",
   "metadata": {},
   "source": [
    "[Danish Democracy Repo](https://github.com/bgarcevic/danish-democracy-data)"
   ]
  },
  {
   "cell_type": "markdown",
   "id": "abaca5ca-dcc5-4908-b0f5-ed4e4c499c99",
   "metadata": {},
   "source": [
    "[Duckdb Dbread](https://github.com/duckdb/dbt-duckdb)"
   ]
  },
  {
   "cell_type": "code",
   "execution_count": null,
   "id": "f45a65c3-509c-4891-a86c-9eac80321fce",
   "metadata": {},
   "outputs": [],
   "source": []
  }
 ],
 "metadata": {
  "kernelspec": {
   "display_name": "Python 3 (ipykernel)",
   "language": "python",
   "name": "python3"
  },
  "language_info": {
   "codemirror_mode": {
    "name": "ipython",
    "version": 3
   },
   "file_extension": ".py",
   "mimetype": "text/x-python",
   "name": "python",
   "nbconvert_exporter": "python",
   "pygments_lexer": "ipython3",
   "version": "3.9.12"
  }
 },
 "nbformat": 4,
 "nbformat_minor": 5
}
